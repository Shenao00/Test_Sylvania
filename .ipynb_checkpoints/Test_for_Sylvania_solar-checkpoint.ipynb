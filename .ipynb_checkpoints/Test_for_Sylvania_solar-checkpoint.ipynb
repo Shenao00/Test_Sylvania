{
 "cells": [
  {
   "cell_type": "code",
   "execution_count": 7,
   "id": "95b21d97-76c5-4d11-b1ec-80c4532f2919",
   "metadata": {},
   "outputs": [
    {
     "name": "stdout",
     "output_type": "stream",
     "text": [
      "Se ha ingresado un panel solar de potencia 165 W\n",
      "Se ha ingresado un panel solar de potencia 450 W\n",
      "Se ha ingresado un panel solar de potencia 540 W\n",
      "Se ha ingresado un panel solar de potencia 580 W\n",
      "Se ha ingresado un panel solar de potencia 610 W\n",
      "Se ha ingresado una batería tipo Litio de 36 Ah a 12.8 V y 460.8 Wh de energía\n",
      "Se ha ingresado una batería tipo Litio de 50 Ah a 12.8 V y 640.0 Wh de energía\n",
      "Se ha ingresado una batería tipo Litio de 75 Ah a 12.8 V y 960.0 Wh de energía\n",
      "Se ha ingresado una batería tipo Gel de 150 Ah a 12 V y 1800.0 Wh de energía\n",
      "Se ha ingresado una batería tipo Gel de 200 Ah a 12 V y 2400.0 Wh de energía\n",
      "Se ha ingresado una batería tipo Gel de 250 Ah a 12 V y 3000.0 Wh de energía\n",
      "Se ha ingresado un MPPT con PV input 200W/12V, 400W/24V  y P output 80W/12V, 160W/24V \n",
      "Se ha ingresado un MPPT con PV input 260W/12V, 520W/24V  y P output 100W/12V, 200W/24V \n",
      "Se ha ingresado un MPPT con PV input 400W/12V, 800W/24V  y P output 130W/12V, 260W/24V \n",
      "Se ha ingresado un MPPT con PV input 550W/12V, 1100W/24V  y P output 150W/12V, 300W/24V \n"
     ]
    }
   ],
   "source": [
    "import math\n",
    "fs=float(0.3) #30% del factor de seguridad\n",
    "HSP=float(4.5) #Horas sol pico\n",
    "horas_uso=float(12)\n",
    "Dod_Litio=0.8\n",
    "Dod_Gel=0.5\n",
    "class Panel:\n",
    "\n",
    "    def __init__(self,potencia, tension):\n",
    "        self.potencia= potencia\n",
    "        self.tension= tension\n",
    "        print(\"Se ha ingresado un panel solar de potencia {} W\".format(self.potencia))\n",
    "\n",
    "    def __str__(self):\n",
    "        return 'Panel solar {} W'.format(self.potencia)\n",
    "\n",
    "    def parameters(self):\n",
    "        return {\n",
    "            'Potencia': self.potencia,\n",
    "            'tension': self.tension,\n",
    "        }\n",
    "\n",
    "    \n",
    "class Bateria:\n",
    "\n",
    "    def __init__(self,tipo, capacidad, tension):\n",
    "        self.tipo=tipo\n",
    "        self.capacidad= capacidad\n",
    "        self.tension=tension\n",
    "        self.energia=float(self.tension)*float(self.capacidad)\n",
    "        if self.tipo=='Litio':\n",
    "            self.E_Disponible=self.energia*Dod_Litio\n",
    "        else:\n",
    "            self.E_Disponible=self.energia*Dod_Gel\n",
    "        print(\"Se ha ingresado una batería tipo {} de {} Ah a {} V y {} Wh de energía\".format(self.tipo,self.capacidad,self.tension,self.energia))\n",
    "\n",
    "    def __str__(self):\n",
    "        return 'Bateria tipo {} de {} Ah a {} V y {} Wh de energía'.format(self.tipo,self.capacidad,self.tension,self.energia)\n",
    "    def parameters(self):\n",
    "        return {\n",
    "            'tipo': self.tipo,\n",
    "            'capacidad': self.capacidad,\n",
    "            'tension': self.tension,\n",
    "            'energia': self.energia,\n",
    "            'E_Disponible' : self.E_Disponible\n",
    "        }\n",
    "\n",
    "\n",
    "class MPPT:\n",
    "\n",
    "    def __init__(self,ref,PV_input12V,PV_input24V,P_Output12V,P_Output24V):\n",
    "        self.ref=ref\n",
    "        self.PV_input12V=PV_input12V\n",
    "        self.PV_input24V= PV_input24V\n",
    "        self.P_Output12V=P_Output12V\n",
    "        self.P_Output24V=P_Output24V\n",
    "        \n",
    "        print(\"Se ha ingresado un MPPT con PV input {}W/12V, {}W/24V  y P output {}W/12V, {}W/24V \".format(self.PV_input12V,self.PV_input24V,self.P_Output12V,self.P_Output24V))\n",
    "\n",
    "    def __str__(self):\n",
    "        return 'MPPT con PV input {}W/12, {}W/24  y P output {}W/12V, {}W/24V'.format(self.PV_input12V,self.PV_input24V,self.P_Output12V,self.P_Output24V)\n",
    "    def parameters(self):\n",
    "        return {\n",
    "            'Referencia': self.ref,\n",
    "            'PV input W@12V': self.PV_input12V,\n",
    "            'PV input W@24V': self.PV_input24V,\n",
    "            'P output W@12V': self.P_Output12V,\n",
    "            'P output W@24V': self.P_Output24V,\n",
    "            \n",
    "        }\n",
    "\n",
    "\n",
    "\n",
    "class Productos:\n",
    "\n",
    "    def __init__(self):\n",
    "        self.Bat_stock=[]\n",
    "        self.Panel_stock=[]\n",
    "        self.MPPT_stock=[]\n",
    "\n",
    "    def agregar_bateria(self,b): #b será una batería\n",
    "        self.Bat_stock.append(b.parameters())\n",
    "\n",
    "    def agregar_panel(self,p): #p será un panel solar\n",
    "        self.Panel_stock.append(p.parameters())\n",
    "\n",
    "    def agregar_MPPT(self,m): #p será un panel solar\n",
    "        self.MPPT_stock.append(m.parameters())\n",
    "    \n",
    "    def mostrar(self):\n",
    "        for b in self.Bat_stock:\n",
    "            print (b)\n",
    "        for p in self.Panel_stock:\n",
    "            print(p)\n",
    "        for m in self.MPPT_stock:\n",
    "            print(m)\n",
    "    def mostrar_Baterias(self):\n",
    "        for b in self.Bat_stock:\n",
    "            print (b)\n",
    "    def mostrar_Paneles(self):\n",
    "        for p in self.Panel_stock:\n",
    "            print(p)\n",
    "    def mostrar_MPPT(self):\n",
    "        for m in self.MPPT_stock:\n",
    "            print(m)\n",
    "    \n",
    "    def calcular_energia_total(self):\n",
    "        energia_total = sum(b['energia'] for b in self.Bat_stock)\n",
    "        return energia_total\n",
    "\n",
    "\n",
    "P23495=Panel(165,19.21)\n",
    "P26376=Panel(450,41.65)\n",
    "P26377=Panel(540,41.65)\n",
    "P40353=Panel(580,42.71)\n",
    "P40143=Panel(610,39.73)\n",
    "\n",
    "P=Productos()\n",
    "P.agregar_panel(P23495)\n",
    "P.agregar_panel(P26376)\n",
    "P.agregar_panel(P26377)\n",
    "P.agregar_panel(P40353)\n",
    "P.agregar_panel(P40143)\n",
    "\n",
    "\n",
    "P25450=Bateria(\"Litio\",36,12.8)\n",
    "P25451=Bateria(\"Litio\",50,12.8)\n",
    "P29946=Bateria(\"Litio\",75,12.8)\n",
    "\n",
    "P37578=Bateria(\"Gel\",150,12)\n",
    "P25446=Bateria(\"Gel\",200,12)\n",
    "P23235=Bateria(\"Gel\",250,12)\n",
    "\n",
    "P.agregar_bateria(P25450)\n",
    "P.agregar_bateria(P25451)\n",
    "P.agregar_bateria(P29946)\n",
    "P.agregar_bateria(P37578)\n",
    "P.agregar_bateria(P25446)\n",
    "P.agregar_bateria(P23235)\n",
    "\n",
    "SC160=MPPT(\"SC160\",200,400,80,160)\n",
    "SC200=MPPT(\"SC200\",260,520,100,200)\n",
    "SC260=MPPT(\"SC260\",400,800,130,260)\n",
    "SC300=MPPT(\"SC300\",550,1100,150,300)\n",
    "\n",
    "P.agregar_MPPT(SC160)\n",
    "P.agregar_MPPT(SC200)\n",
    "P.agregar_MPPT(SC260)\n",
    "P.agregar_MPPT(SC300)\n",
    "\n",
    "#P.mostrar()\n",
    "    \n",
    "class Carga:\n",
    "    def __init__(self, p_luminaria, eficacia, autonomia, BaTip, Productos):\n",
    "        self.p_luminaria = p_luminaria\n",
    "        self.eficacia = eficacia\n",
    "        self.autonomia = autonomia\n",
    "        self.BaTip = BaTip\n",
    "        self.Productos = Productos\n",
    "        self.Panel = Productos.Panel_stock\n",
    "        self.Bateria = [b for b in Productos.Bat_stock if b['tipo'] == BaTip]  # Filtra baterías según el tipo\n",
    "        self.MPPT_stock = Productos.MPPT_stock\n",
    "        self.energia_usada = int(self.p_luminaria) * horas_uso\n",
    "        self.Pot_req = (self.energia_usada * (1 + fs) / HSP)\n",
    "        self.mejor_bateria = None\n",
    "        self.mejor_panel = None\n",
    "        \n",
    "        print (\"El flujo luminoso es {} lm\".format(int(self.p_luminaria)*int(self.eficacia)))\n",
    "\n",
    "    def calculo_Panel(self, criterio='Potencia'):\n",
    "        if not self.Panel:\n",
    "            return None\n",
    "\n",
    "        Panel_seleccionado = []\n",
    "\n",
    "        for modulo in self.Panel:\n",
    "            actual = modulo.get(criterio)\n",
    "            if actual >= self.Pot_req:\n",
    "                Panel_seleccionado.append([modulo, 'Cantidad: ', 1, modulo['Potencia'] * 1])\n",
    "            elif actual * 2 >= self.Pot_req:\n",
    "                Panel_seleccionado.append([modulo, 'Cantidad: ', 2, modulo['Potencia'] * 2])\n",
    "            elif actual * 3 >= self.Pot_req:\n",
    "                Panel_seleccionado.append([modulo, 'Cantidad: ', 3, modulo['Potencia'] * 3])\n",
    "            elif actual * 4 >= self.Pot_req:\n",
    "                Panel_seleccionado.append([modulo, 'Cantidad: ', 4, modulo['Potencia'] * 4])\n",
    "            else:\n",
    "                print(\"Demasiado grande para el panel de {} W\".format(modulo))\n",
    "\n",
    "        P = Panel_seleccionado\n",
    "        self.mejor_panel = min(P, key=lambda x: (x[2], x[1])) if P else None\n",
    "        i = 0\n",
    "        print('Las opciones son:')\n",
    "        for n in P:\n",
    "            print(' {}'.format(P[i]))\n",
    "            i += 1\n",
    "        print('\\n LA MEJOR OPCIÓN ES: {}'.format(self.mejor_panel))\n",
    "        return self.mejor_panel\n",
    "\n",
    "    def calculo_Bateria(self, criterio1='energia'):\n",
    "        if self.BaTip == \"Litio\" and float(horas_uso) / float(self.autonomia) >= Dod_Litio:\n",
    "            criterio1 = 'E_Disponible'\n",
    "        elif self.BaTip == \"Gel\" and float(horas_uso) / float(self.autonomia) >= Dod_Gel:\n",
    "            criterio1 = 'E_Disponible'\n",
    "    \n",
    "        if not self.Bateria:\n",
    "            print(\"No hay baterías del tipo especificado en el stock.\")\n",
    "            return None\n",
    "    \n",
    "        Bateria_seleccionada = []\n",
    "    \n",
    "        for Celda in self.Bateria:\n",
    "            relative = Celda.get(criterio1)\n",
    "            if self.BaTip == 'Litio':\n",
    "                if relative >= (int(self.p_luminaria) * int(self.autonomia)):\n",
    "                    Bateria_seleccionada.append([Celda, 'Cantidad: ', 1, 'DOD:{:.0%}'.format(self.energia_usada / (Celda['energia'] * 1))])\n",
    "                elif relative * 2 >= (int(self.p_luminaria) * int(self.autonomia)):\n",
    "                    Bateria_seleccionada.append([Celda, 'Cantidad: ', 2, 'DOD:{:.0%}'.format(self.energia_usada / (Celda['energia'] * 2))])\n",
    "                elif relative * 4 >= (int(self.p_luminaria) * int(self.autonomia)):\n",
    "                    Bateria_seleccionada.append([Celda, 'Cantidad: ', 4, 'DOD:{:.0%}'.format(self.energia_usada / (Celda['energia'] * 4))])\n",
    "                elif relative * 6 >= (int(self.p_luminaria) * int(self.autonomia)):\n",
    "                    Bateria_seleccionada.append([Celda, 'Cantidad: ', 6, 'DOD:{:.0%}'.format(self.energia_usada / (Celda['energia'] * 6))])\n",
    "                elif relative * 8 >= (int(self.p_luminaria) * int(self.autonomia)):\n",
    "                    Bateria_seleccionada.append([Celda, 'Cantidad: ', 8, 'DOD:{:.0%}'.format(self.energia_usada / (Celda['energia'] * 8))])\n",
    "                else:\n",
    "                    print(\"Demasiado grande para la batería de {} W\".format(Celda))\n",
    "            elif self.BaTip == 'Gel':\n",
    "                if relative >= (int(self.p_luminaria) * int(self.autonomia)):\n",
    "                    Bateria_seleccionada.append([Celda, 'Cantidad: ', 1, 'DOD:{:.0%}'.format(self.energia_usada / (Celda['energia'] * 1))])\n",
    "                elif relative * 2 >= (int(self.p_luminaria) * int(self.autonomia)):\n",
    "                    Bateria_seleccionada.append([Celda, 'Cantidad: ', 2, 'DOD:{:.0%}'.format(self.energia_usada / (Celda['energia'] * 2))])\n",
    "                elif relative * 4 >= (int(self.p_luminaria) * int(self.autonomia)):\n",
    "                    Bateria_seleccionada.append([Celda, 'Cantidad: ', 4, 'DOD:{:.0%}'.format(self.energia_usada / (Celda['energia'] * 4))])\n",
    "                else:\n",
    "                    print(\"Demasiado grande para la batería de {} W\".format(Celda))\n",
    "    \n",
    "        # Verificar que Bateria_seleccionada no esté vacía antes de acceder a los elementos\n",
    "        if not Bateria_seleccionada:\n",
    "            print(\"No se encontraron opciones adecuadas de baterías.\")\n",
    "            return None\n",
    "    \n",
    "        B = Bateria_seleccionada\n",
    "        self.mejor_bateria = min(B, key=lambda x: (x[2])) and max(B, key=lambda x: (x[3]))\n",
    "        i = 0\n",
    "        print('Las opciones son:')\n",
    "        for n in B:\n",
    "            print(' {}'.format(B[i]))\n",
    "            i += 1\n",
    "        print('\\n LA MEJOR OPCIÓN PARA {} HORAS DE AUTONOMÍA ES: {}'.format(self.autonomia, self.mejor_bateria))\n",
    "        return self.mejor_bateria\n",
    "\n",
    "\n",
    "    def calculo_MPPT(self):\n",
    "        if not self.mejor_panel or not self.mejor_bateria:\n",
    "            print(\"Primero debe calcular y seleccionar la mejor opción de panel y batería.\")\n",
    "            return None\n",
    "    \n",
    "        # Determina la tensión del sistema basado en la cantidad de baterías seleccionadas\n",
    "        cantidad_baterias = self.mejor_bateria[2]  # Cantidad de baterías seleccionadas\n",
    "        if cantidad_baterias == 1:\n",
    "            tension_sistema = 12\n",
    "            potencia_panel = self.mejor_panel[3]  # Potencia total de los paneles seleccionados\n",
    "            potencia_salida_requerida = self.p_luminaria  # Potencia de salida basada en la potencia de la luminaria\n",
    "        else:\n",
    "            tension_sistema = 24\n",
    "            potencia_panel = self.mejor_panel[3]  # Potencia total de los paneles seleccionados\n",
    "            potencia_salida_requerida = self.p_luminaria  # Potencia de salida basada en la potencia de la luminaria\n",
    "    \n",
    "        # Filtrar y seleccionar el MPPT adecuado\n",
    "        MPPT_seleccionado = []\n",
    "    \n",
    "        for mppt in self.MPPT_stock:\n",
    "            if tension_sistema == 12:\n",
    "                if mppt['PV input W@12V'] >= potencia_panel and mppt['P output W@12V'] >= int(potencia_salida_requerida):\n",
    "                    MPPT_seleccionado.append(mppt)\n",
    "                    print(f\"MPPT {mppt} es adecuado para 12V con {potencia_panel} W de panel y {potencia_salida_requerida} W de salida.\")\n",
    "            elif tension_sistema == 24:\n",
    "                if mppt['PV input W@24V'] >= potencia_panel and mppt['P output W@24V'] >= int(potencia_salida_requerida):\n",
    "                    MPPT_seleccionado.append(mppt)\n",
    "                    print(f\"MPPT {mppt} es adecuado para 24V con {potencia_panel} W de panel y {potencia_salida_requerida} W de salida.\")\n",
    "    \n",
    "        # Seleccionar el mejor MPPT basado en la capacidad de manejar la potencia\n",
    "        mejor_mppt = min(MPPT_seleccionado, key=lambda x: (x['PV input W@12V'] if tension_sistema == 12 else x['PV input W@24V'])) if MPPT_seleccionado else None\n",
    "    \n",
    "        if mejor_mppt:\n",
    "            print(f'\\nLa mejor opción de MPPT para una tensión de {tension_sistema}V es: {mejor_mppt}')\n",
    "        else:\n",
    "            print(\"No se encontraron MPPT adecuados para la configuración seleccionada.\")\n",
    "    \n",
    "        return mejor_mppt\n",
    "\n",
    "\n",
    "#ZD229 = Carga(input('Por favor ingrese la potencia de la luminaria: (W)'),input('Por favor ingrese la eficacia: (lm/W)'),input('Por favor ingrese la autonomía requerida: (H)'),input('Por favor ingrese el tipo de batería: '),P)\n",
    "#ZD229.calculo_Panel()\n",
    "\n",
    "        \n",
    "#    def calculo_MPPT(self):\n",
    "        \n",
    "        \n",
    "#        return print('esto es relative {} y esto es self.Bateria {}'.format(relative,self.Bateria))\n",
    "    \n",
    "# print(\"Esta es la carga {} W y UTILIZA un total de {:02.1f} Wh en {} horas y requiere un panel de {} W\".format(self.p_luminaria,self.energia_usada,horas_uso,Panel_seleccionado))\n",
    "\n",
    "\n",
    "#print(\"Por favor, ingrese el valor de la potencia de la luminaria y posteriormente la eficacia en lm/W\")\n",
    "#c = Carga(input(),input())\n",
    "#c = Carga(2000,150,P)\n",
    "#c.calculo_Panel()"
   ]
  },
  {
   "cell_type": "code",
   "execution_count": 8,
   "id": "4560896f-c78a-4603-90f7-2da7b7e22353",
   "metadata": {},
   "outputs": [
    {
     "name": "stdin",
     "output_type": "stream",
     "text": [
      "Por favor ingrese la potencia de la luminaria: (W) 150\n",
      "Por favor ingrese la eficacia: (lm/W) 150\n",
      "Por favor ingrese la autonomía requerida: (H) 36\n",
      "Por favor ingrese el tipo de batería:  Litio\n"
     ]
    },
    {
     "name": "stdout",
     "output_type": "stream",
     "text": [
      "El flujo luminoso es 22500 lm\n",
      "Las opciones son:\n",
      " [{'Potencia': 165, 'tension': 19.21}, 'Cantidad: ', 4, 660]\n",
      " [{'Potencia': 450, 'tension': 41.65}, 'Cantidad: ', 2, 900]\n",
      " [{'Potencia': 540, 'tension': 41.65}, 'Cantidad: ', 1, 540]\n",
      " [{'Potencia': 580, 'tension': 42.71}, 'Cantidad: ', 1, 580]\n",
      " [{'Potencia': 610, 'tension': 39.73}, 'Cantidad: ', 1, 610]\n",
      "\n",
      " LA MEJOR OPCIÓN ES: [{'Potencia': 540, 'tension': 41.65}, 'Cantidad: ', 1, 540]\n"
     ]
    },
    {
     "data": {
      "text/plain": [
       "[{'Potencia': 540, 'tension': 41.65}, 'Cantidad: ', 1, 540]"
      ]
     },
     "execution_count": 8,
     "metadata": {},
     "output_type": "execute_result"
    }
   ],
   "source": [
    "ZD229 = Carga(input('Por favor ingrese la potencia de la luminaria: (W)'),input('Por favor ingrese la eficacia: (lm/W)'),input('Por favor ingrese la autonomía requerida: (H)'),input('Por favor ingrese el tipo de batería: '),P)\n",
    "ZD229.calculo_Panel()"
   ]
  },
  {
   "cell_type": "code",
   "execution_count": 191,
   "id": "69b4d4b2-04af-4ad8-ba6f-57e519f9f327",
   "metadata": {},
   "outputs": [
    {
     "name": "stdout",
     "output_type": "stream",
     "text": [
      "Demasiado grande para la batería de {'tipo': 'Litio', 'capacidad': 36, 'tension': 12.8, 'energia': 460.8, 'E_Disponible': 368.64000000000004} W\n",
      "Demasiado grande para la batería de {'tipo': 'Litio', 'capacidad': 50, 'tension': 12.8, 'energia': 640.0, 'E_Disponible': 512.0} W\n",
      "Las opciones son:\n",
      " [{'tipo': 'Litio', 'capacidad': 75, 'tension': 12.8, 'energia': 960.0, 'E_Disponible': 768.0}, 'Cantidad: ', 6, 'DOD:62%']\n",
      "\n",
      " LA MEJOR OPCIÓN PARA 15 HORAS DE AUTONOMÍA ES: [{'tipo': 'Litio', 'capacidad': 75, 'tension': 12.8, 'energia': 960.0, 'E_Disponible': 768.0}, 'Cantidad: ', 6, 'DOD:62%']\n"
     ]
    },
    {
     "data": {
      "text/plain": [
       "[{'tipo': 'Litio',\n",
       "  'capacidad': 75,\n",
       "  'tension': 12.8,\n",
       "  'energia': 960.0,\n",
       "  'E_Disponible': 768.0},\n",
       " 'Cantidad: ',\n",
       " 6,\n",
       " 'DOD:62%']"
      ]
     },
     "execution_count": 191,
     "metadata": {},
     "output_type": "execute_result"
    }
   ],
   "source": [
    "ZD229.calculo_Bateria()"
   ]
  },
  {
   "cell_type": "code",
   "execution_count": 192,
   "id": "f0725e8f-2b61-4aae-bb45-20d25665d06a",
   "metadata": {},
   "outputs": [
    {
     "name": "stdout",
     "output_type": "stream",
     "text": [
      "MPPT {'Referencia': 'SC300', 'PV input W@12V': 550, 'PV input W@24V': 1100, 'P output W@12V': 150, 'P output W@24V': 300} es adecuado para 24V con 1080 W de panel y 300 W de salida.\n",
      "\n",
      "La mejor opción de MPPT para una tensión de 24V es: {'Referencia': 'SC300', 'PV input W@12V': 550, 'PV input W@24V': 1100, 'P output W@12V': 150, 'P output W@24V': 300}\n"
     ]
    },
    {
     "data": {
      "text/plain": [
       "{'Referencia': 'SC300',\n",
       " 'PV input W@12V': 550,\n",
       " 'PV input W@24V': 1100,\n",
       " 'P output W@12V': 150,\n",
       " 'P output W@24V': 300}"
      ]
     },
     "execution_count": 192,
     "metadata": {},
     "output_type": "execute_result"
    }
   ],
   "source": [
    "ZD229.calculo_MPPT()"
   ]
  },
  {
   "cell_type": "code",
   "execution_count": 149,
   "id": "44dce7f7-66ab-4188-8bb7-594647f56f4e",
   "metadata": {},
   "outputs": [
    {
     "name": "stdout",
     "output_type": "stream",
     "text": [
      "La solución más barata es: [{'Potencia': 540, 'tension': 41.65}, 1, 540]\n"
     ]
    }
   ],
   "source": [
    "low=min(T, key=lambda x: x[2]) and min(T, key=lambda x: x[1])\n",
    "print(f'La solución más barata es: {low}')"
   ]
  },
  {
   "cell_type": "code",
   "execution_count": 168,
   "id": "79f76269-7dd7-420b-904e-df0db2af3f9f",
   "metadata": {},
   "outputs": [
    {
     "name": "stdout",
     "output_type": "stream",
     "text": [
      "Las opciones son: \n",
      " [{'Potencia': 165, 'tension': 19.21}, 4, 660]\n",
      " [{'Potencia': 450, 'tension': 41.65}, 2, 900]\n",
      " [{'Potencia': 540, 'tension': 41.65}, 1, 540]\n",
      " [{'Potencia': 610, 'tension': 39.73}, 1, 610].\n",
      " La solución más barata es: \n",
      "\n",
      "[{'Potencia': 540, 'tension': 41.65}, 1, 540]\n"
     ]
    }
   ],
   "source": [
    "T=ZD229.calculo_Panel()\n",
    "print(T)"
   ]
  },
  {
   "cell_type": "code",
   "execution_count": 79,
   "id": "f6927273-1fd6-4f62-93e2-408626a610a0",
   "metadata": {},
   "outputs": [
    {
     "data": {
      "text/plain": [
       "660"
      ]
     },
     "execution_count": 79,
     "metadata": {},
     "output_type": "execute_result"
    }
   ],
   "source": [
    "P26377.potencia, P26377.tension"
   ]
  },
  {
   "cell_type": "code",
   "execution_count": 3,
   "id": "08813cbd-5d08-454a-b9d1-861746f74078",
   "metadata": {},
   "outputs": [
    {
     "name": "stdout",
     "output_type": "stream",
     "text": [
      "Bateria tipo Litio de 75 Ah a 12.8 V y 960.0 Wh de energía\n"
     ]
    }
   ],
   "source": [
    "print(P29946)"
   ]
  },
  {
   "cell_type": "code",
   "execution_count": 116,
   "id": "3727d230-dc11-4614-bc82-56102cd96948",
   "metadata": {},
   "outputs": [
    {
     "data": {
      "text/plain": [
       "640.0"
      ]
     },
     "execution_count": 116,
     "metadata": {},
     "output_type": "execute_result"
    }
   ],
   "source": [
    "P25451.capacidad*P25451.tension"
   ]
  },
  {
   "cell_type": "code",
   "execution_count": 119,
   "id": "31d49152-c7fe-48ff-88f6-88496d530153",
   "metadata": {},
   "outputs": [
    {
     "name": "stdout",
     "output_type": "stream",
     "text": [
      "2060.8\n"
     ]
    }
   ],
   "source": [
    "energia_total=P.calcular_energia_total()\n",
    "print(energia_total)"
   ]
  },
  {
   "cell_type": "code",
   "execution_count": 28,
   "id": "48049d32-7684-40ad-93ab-86abf7136f1b",
   "metadata": {},
   "outputs": [
    {
     "data": {
      "text/plain": [
       "106.66666666666667"
      ]
     },
     "execution_count": 28,
     "metadata": {},
     "output_type": "execute_result"
    }
   ],
   "source": [
    "480/HSP"
   ]
  },
  {
   "cell_type": "code",
   "execution_count": 117,
   "id": "be444b70-82c5-4770-aac9-910880c3b95a",
   "metadata": {},
   "outputs": [
    {
     "data": {
      "text/plain": [
       "[{'Potencia': 165, 'tension': 19.21},\n",
       " {'Potencia': 450, 'tension': 41.65},\n",
       " {'Potencia': 540, 'tension': 41.65},\n",
       " {'Potencia': 610, 'tension': 39.73}]"
      ]
     },
     "execution_count": 117,
     "metadata": {},
     "output_type": "execute_result"
    }
   ],
   "source": [
    "P.Panel_stock"
   ]
  },
  {
   "cell_type": "code",
   "execution_count": 34,
   "id": "ceedba4d-64f5-4d5d-be7e-f3ad297043e9",
   "metadata": {},
   "outputs": [
    {
     "data": {
      "text/plain": [
       "[{'tipo': 'Litio',\n",
       "  'capacidad': 36,\n",
       "  'tension': 12.8,\n",
       "  'energia': 460.8,\n",
       "  'E_Disponible': 368.64000000000004},\n",
       " {'tipo': 'Litio',\n",
       "  'capacidad': 50,\n",
       "  'tension': 12.8,\n",
       "  'energia': 640.0,\n",
       "  'E_Disponible': 512.0},\n",
       " {'tipo': 'Litio',\n",
       "  'capacidad': 75,\n",
       "  'tension': 12.8,\n",
       "  'energia': 960.0,\n",
       "  'E_Disponible': 768.0},\n",
       " {'tipo': 'Gel',\n",
       "  'capacidad': 150,\n",
       "  'tension': 12,\n",
       "  'energia': 1800.0,\n",
       "  'E_Disponible': 900.0},\n",
       " {'tipo': 'Gel',\n",
       "  'capacidad': 200,\n",
       "  'tension': 12,\n",
       "  'energia': 2400.0,\n",
       "  'E_Disponible': 1200.0},\n",
       " {'tipo': 'Gel',\n",
       "  'capacidad': 250,\n",
       "  'tension': 12,\n",
       "  'energia': 3000.0,\n",
       "  'E_Disponible': 1500.0}]"
      ]
     },
     "execution_count": 34,
     "metadata": {},
     "output_type": "execute_result"
    }
   ],
   "source": [
    "P.Bat_stock"
   ]
  },
  {
   "cell_type": "code",
   "execution_count": 61,
   "id": "15b84cc4-688b-4a54-a9c4-b4a3091a1ce1",
   "metadata": {},
   "outputs": [
    {
     "data": {
      "text/plain": [
       "540"
      ]
     },
     "execution_count": 61,
     "metadata": {},
     "output_type": "execute_result"
    }
   ],
   "source": [
    "P26377.potencia"
   ]
  },
  {
   "cell_type": "code",
   "execution_count": 41,
   "id": "87e3e86c-b61b-4efe-825f-9181fac67162",
   "metadata": {},
   "outputs": [
    {
     "data": {
      "text/plain": [
       "True"
      ]
     },
     "execution_count": 41,
     "metadata": {},
     "output_type": "execute_result"
    }
   ],
   "source": [
    "int(340)>=float(12.5)"
   ]
  },
  {
   "cell_type": "code",
   "execution_count": 14,
   "id": "32284b65-907d-49e1-a98c-fead5719ccf5",
   "metadata": {},
   "outputs": [
    {
     "name": "stdout",
     "output_type": "stream",
     "text": [
      "{'tipo': 'Litio', 'capacidad': 36, 'tension': 12.8, 'energia': 460.8, 'E_Disponible': 368.64000000000004}\n",
      "{'tipo': 'Litio', 'capacidad': 50, 'tension': 12.8, 'energia': 640.0, 'E_Disponible': 512.0}\n",
      "{'tipo': 'Litio', 'capacidad': 75, 'tension': 12.8, 'energia': 960.0, 'E_Disponible': 768.0}\n",
      "{'tipo': 'Gel', 'capacidad': 150, 'tension': 12, 'energia': 1800.0, 'E_Disponible': 900.0}\n",
      "{'tipo': 'Gel', 'capacidad': 200, 'tension': 12, 'energia': 2400.0, 'E_Disponible': 1200.0}\n",
      "{'tipo': 'Gel', 'capacidad': 250, 'tension': 12, 'energia': 3000.0, 'E_Disponible': 1500.0}\n",
      "{'Potencia': 165, 'tension': 19.21}\n",
      "{'Potencia': 450, 'tension': 41.65}\n",
      "{'Potencia': 540, 'tension': 41.65}\n",
      "{'Potencia': 580, 'tension': 42.71}\n",
      "{'Potencia': 610, 'tension': 39.73}\n",
      "{'PV input W@12V': 200, 'PV input W@24V': 400, 'P output W@12V': 80, 'P output W@24V': 160}\n",
      "{'PV input W@12V': 260, 'PV input W@24V': 520, 'P output W@12V': 100, 'P output W@24V': 200}\n",
      "{'PV input W@12V': 400, 'PV input W@24V': 800, 'P output W@12V': 130, 'P output W@24V': 260}\n",
      "{'PV input W@12V': 1100, 'PV input W@24V': 550, 'P output W@12V': 150, 'P output W@24V': 300}\n"
     ]
    }
   ],
   "source": [
    "P.mostrar()"
   ]
  },
  {
   "cell_type": "code",
   "execution_count": 66,
   "id": "f76e445e-3fb2-4a83-becb-a5d244b61387",
   "metadata": {},
   "outputs": [
    {
     "name": "stdout",
     "output_type": "stream",
     "text": [
      "{'tipo': 'Litio', 'capacidad': 36, 'tension': 12, 'energia': 460, 'energia*Dod': 368}\n",
      "{'tipo': 'Litio', 'capacidad': 50, 'tension': 12, 'energia': 640, 'energia*Dod': 512}\n",
      "{'tipo': 'Litio', 'capacidad': 75, 'tension': 12, 'energia': 960, 'energia*Dod': 768}\n",
      "{'tipo': 'Gel', 'capacidad': 150, 'tension': 12, 'energia': 1800, 'energia*Dod': 900}\n",
      "{'tipo': 'Gel', 'capacidad': 200, 'tension': 12, 'energia': 2400, 'energia*Dod': 1200}\n",
      "{'tipo': 'Gel', 'capacidad': 250, 'tension': 12, 'energia': 3000, 'energia*Dod': 1500}\n"
     ]
    }
   ],
   "source": [
    "P.mostrar_Baterias()"
   ]
  },
  {
   "cell_type": "code",
   "execution_count": 67,
   "id": "a309fa0d-fd64-463e-bf2e-e7c9ee99de75",
   "metadata": {},
   "outputs": [
    {
     "name": "stdout",
     "output_type": "stream",
     "text": [
      "{'Potencia': 165, 'tension': 19.21}\n",
      "{'Potencia': 450, 'tension': 41.65}\n",
      "{'Potencia': 540, 'tension': 41.65}\n",
      "{'Potencia': 610, 'tension': 39.73}\n"
     ]
    }
   ],
   "source": [
    "P.mostrar_Paneles()"
   ]
  },
  {
   "cell_type": "code",
   "execution_count": 167,
   "id": "e077d2de-35ad-44bc-8add-7370fb01fc83",
   "metadata": {},
   "outputs": [
    {
     "data": {
      "text/plain": [
       "[{'PV input W@12V': 200,\n",
       "  'PV input W@24V': 400,\n",
       "  'P output W@12V': 80,\n",
       "  'P output W@24V': 160},\n",
       " {'PV input W@12V': 260,\n",
       "  'PV input W@24V': 520,\n",
       "  'P output W@12V': 100,\n",
       "  'P output W@24V': 200},\n",
       " {'PV input W@12V': 400,\n",
       "  'PV input W@24V': 800,\n",
       "  'P output W@12V': 130,\n",
       "  'P output W@24V': 260},\n",
       " {'PV input W@12V': 1100,\n",
       "  'PV input W@24V': 550,\n",
       "  'P output W@12V': 150,\n",
       "  'P output W@24V': 300}]"
      ]
     },
     "execution_count": 167,
     "metadata": {},
     "output_type": "execute_result"
    }
   ],
   "source": [
    "P.MPPT_stock"
   ]
  },
  {
   "cell_type": "code",
   "execution_count": 168,
   "id": "6d163735-e49a-4850-aafe-82dc2371ceae",
   "metadata": {},
   "outputs": [
    {
     "data": {
      "text/plain": [
       "1100"
      ]
     },
     "execution_count": 168,
     "metadata": {},
     "output_type": "execute_result"
    }
   ],
   "source": [
    "SC300.PV_input12V"
   ]
  },
  {
   "cell_type": "code",
   "execution_count": 169,
   "id": "995e3c62-4ab4-4620-9592-83614be71e52",
   "metadata": {},
   "outputs": [
    {
     "data": {
      "text/plain": [
       "550"
      ]
     },
     "execution_count": 169,
     "metadata": {},
     "output_type": "execute_result"
    }
   ],
   "source": [
    "SC300.PV_input24V"
   ]
  },
  {
   "cell_type": "code",
   "execution_count": 171,
   "id": "05bbcabf-52b5-40a8-a957-6e8716047769",
   "metadata": {},
   "outputs": [
    {
     "data": {
      "text/plain": [
       "300"
      ]
     },
     "execution_count": 171,
     "metadata": {},
     "output_type": "execute_result"
    }
   ],
   "source": [
    "SC300.P_Output24V"
   ]
  },
  {
   "cell_type": "code",
   "execution_count": 172,
   "id": "139041a4-69d1-40fb-8ef1-11e835234eb8",
   "metadata": {},
   "outputs": [
    {
     "data": {
      "text/plain": [
       "150"
      ]
     },
     "execution_count": 172,
     "metadata": {},
     "output_type": "execute_result"
    }
   ],
   "source": [
    "SC300.P_Output12V"
   ]
  },
  {
   "cell_type": "code",
   "execution_count": null,
   "id": "3b2ebc30-f867-4210-a7d0-036e8d38f7e1",
   "metadata": {},
   "outputs": [],
   "source": []
  }
 ],
 "metadata": {
  "kernelspec": {
   "display_name": "Python 3 (ipykernel)",
   "language": "python",
   "name": "python3"
  },
  "language_info": {
   "codemirror_mode": {
    "name": "ipython",
    "version": 3
   },
   "file_extension": ".py",
   "mimetype": "text/x-python",
   "name": "python",
   "nbconvert_exporter": "python",
   "pygments_lexer": "ipython3",
   "version": "3.12.5"
  }
 },
 "nbformat": 4,
 "nbformat_minor": 5
}
